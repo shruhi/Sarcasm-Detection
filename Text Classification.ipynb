{
 "cells": [
  {
   "cell_type": "code",
   "execution_count": 1,
   "metadata": {},
   "outputs": [
    {
     "name": "stdout",
     "output_type": "stream",
     "text": [
      "[nltk_data] Downloading package stopwords to\n",
      "[nltk_data]     /Users/shruhi/nltk_data...\n",
      "[nltk_data]   Package stopwords is already up-to-date!\n"
     ]
    },
    {
     "name": "stderr",
     "output_type": "stream",
     "text": [
      "/anaconda3/lib/python3.7/site-packages/sklearn/ensemble/weight_boosting.py:29: DeprecationWarning: numpy.core.umath_tests is an internal NumPy module and should not be imported. It will be removed in a future NumPy release.\n",
      "  from numpy.core.umath_tests import inner1d\n"
     ]
    }
   ],
   "source": [
    "import pandas as pd\n",
    "import json\n",
    "import numpy as np\n",
    "import seaborn as sns\n",
    "import matplotlib.pyplot as plt\n",
    "import re\n",
    "import nltk\n",
    "nltk.download(\"stopwords\")\n",
    "\n",
    "from nltk.corpus import stopwords\n",
    "from nltk.stem.snowball import SnowballStemmer\n",
    "\n",
    "from sklearn.feature_extraction.text import CountVectorizer\n",
    "from sklearn.model_selection import train_test_split\n",
    "from sklearn.naive_bayes import MultinomialNB\n",
    "from sklearn.linear_model import LogisticRegression\n",
    "from sklearn.linear_model import SGDClassifier\n",
    "from sklearn.ensemble import RandomForestClassifier\n",
    "from sklearn.feature_extraction.text import TfidfVectorizer\n",
    "\n",
    "from sklearn.metrics import confusion_matrix\n",
    "from sklearn.metrics import classification_report\n",
    "from sklearn.metrics import roc_curve, auc"
   ]
  },
  {
   "cell_type": "code",
   "execution_count": 2,
   "metadata": {},
   "outputs": [
    {
     "data": {
      "text/html": [
       "<div>\n",
       "<style scoped>\n",
       "    .dataframe tbody tr th:only-of-type {\n",
       "        vertical-align: middle;\n",
       "    }\n",
       "\n",
       "    .dataframe tbody tr th {\n",
       "        vertical-align: top;\n",
       "    }\n",
       "\n",
       "    .dataframe thead th {\n",
       "        text-align: right;\n",
       "    }\n",
       "</style>\n",
       "<table border=\"1\" class=\"dataframe\">\n",
       "  <thead>\n",
       "    <tr style=\"text-align: right;\">\n",
       "      <th></th>\n",
       "      <th>article_link</th>\n",
       "      <th>headline</th>\n",
       "      <th>is_sarcastic</th>\n",
       "    </tr>\n",
       "  </thead>\n",
       "  <tbody>\n",
       "    <tr>\n",
       "      <th>0</th>\n",
       "      <td>https://www.huffingtonpost.com/entry/versace-b...</td>\n",
       "      <td>former versace store clerk sues over secret 'b...</td>\n",
       "      <td>0</td>\n",
       "    </tr>\n",
       "    <tr>\n",
       "      <th>1</th>\n",
       "      <td>https://www.huffingtonpost.com/entry/roseanne-...</td>\n",
       "      <td>the 'roseanne' revival catches up to our thorn...</td>\n",
       "      <td>0</td>\n",
       "    </tr>\n",
       "    <tr>\n",
       "      <th>2</th>\n",
       "      <td>https://local.theonion.com/mom-starting-to-fea...</td>\n",
       "      <td>mom starting to fear son's web series closest ...</td>\n",
       "      <td>1</td>\n",
       "    </tr>\n",
       "    <tr>\n",
       "      <th>3</th>\n",
       "      <td>https://politics.theonion.com/boehner-just-wan...</td>\n",
       "      <td>boehner just wants wife to listen, not come up...</td>\n",
       "      <td>1</td>\n",
       "    </tr>\n",
       "    <tr>\n",
       "      <th>4</th>\n",
       "      <td>https://www.huffingtonpost.com/entry/jk-rowlin...</td>\n",
       "      <td>j.k. rowling wishes snape happy birthday in th...</td>\n",
       "      <td>0</td>\n",
       "    </tr>\n",
       "  </tbody>\n",
       "</table>\n",
       "</div>"
      ],
      "text/plain": [
       "                                        article_link  \\\n",
       "0  https://www.huffingtonpost.com/entry/versace-b...   \n",
       "1  https://www.huffingtonpost.com/entry/roseanne-...   \n",
       "2  https://local.theonion.com/mom-starting-to-fea...   \n",
       "3  https://politics.theonion.com/boehner-just-wan...   \n",
       "4  https://www.huffingtonpost.com/entry/jk-rowlin...   \n",
       "\n",
       "                                            headline  is_sarcastic  \n",
       "0  former versace store clerk sues over secret 'b...             0  \n",
       "1  the 'roseanne' revival catches up to our thorn...             0  \n",
       "2  mom starting to fear son's web series closest ...             1  \n",
       "3  boehner just wants wife to listen, not come up...             1  \n",
       "4  j.k. rowling wishes snape happy birthday in th...             0  "
      ]
     },
     "execution_count": 2,
     "metadata": {},
     "output_type": "execute_result"
    }
   ],
   "source": [
    "data = pd.read_json('/Users/shruhi/Documents/212 Project/Dataset.json', lines = True)\n",
    "data = pd.DataFrame(data)\n",
    "data.head()"
   ]
  },
  {
   "cell_type": "code",
   "execution_count": 3,
   "metadata": {},
   "outputs": [
    {
     "name": "stdout",
     "output_type": "stream",
     "text": [
      "(26709, 2)\n"
     ]
    },
    {
     "data": {
      "text/html": [
       "<div>\n",
       "<style scoped>\n",
       "    .dataframe tbody tr th:only-of-type {\n",
       "        vertical-align: middle;\n",
       "    }\n",
       "\n",
       "    .dataframe tbody tr th {\n",
       "        vertical-align: top;\n",
       "    }\n",
       "\n",
       "    .dataframe thead th {\n",
       "        text-align: right;\n",
       "    }\n",
       "</style>\n",
       "<table border=\"1\" class=\"dataframe\">\n",
       "  <thead>\n",
       "    <tr style=\"text-align: right;\">\n",
       "      <th></th>\n",
       "      <th>headline</th>\n",
       "      <th>is_sarcastic</th>\n",
       "    </tr>\n",
       "  </thead>\n",
       "  <tbody>\n",
       "    <tr>\n",
       "      <th>0</th>\n",
       "      <td>former versace store clerk sues over secret 'b...</td>\n",
       "      <td>0</td>\n",
       "    </tr>\n",
       "    <tr>\n",
       "      <th>1</th>\n",
       "      <td>the 'roseanne' revival catches up to our thorn...</td>\n",
       "      <td>0</td>\n",
       "    </tr>\n",
       "    <tr>\n",
       "      <th>2</th>\n",
       "      <td>mom starting to fear son's web series closest ...</td>\n",
       "      <td>1</td>\n",
       "    </tr>\n",
       "    <tr>\n",
       "      <th>3</th>\n",
       "      <td>boehner just wants wife to listen, not come up...</td>\n",
       "      <td>1</td>\n",
       "    </tr>\n",
       "    <tr>\n",
       "      <th>4</th>\n",
       "      <td>j.k. rowling wishes snape happy birthday in th...</td>\n",
       "      <td>0</td>\n",
       "    </tr>\n",
       "  </tbody>\n",
       "</table>\n",
       "</div>"
      ],
      "text/plain": [
       "                                            headline  is_sarcastic\n",
       "0  former versace store clerk sues over secret 'b...             0\n",
       "1  the 'roseanne' revival catches up to our thorn...             0\n",
       "2  mom starting to fear son's web series closest ...             1\n",
       "3  boehner just wants wife to listen, not come up...             1\n",
       "4  j.k. rowling wishes snape happy birthday in th...             0"
      ]
     },
     "execution_count": 3,
     "metadata": {},
     "output_type": "execute_result"
    }
   ],
   "source": [
    "data = data.iloc[:,1:]\n",
    "print(data.shape)\n",
    "data.head()"
   ]
  },
  {
   "cell_type": "markdown",
   "metadata": {},
   "source": [
    "Let's check the target variable distribution"
   ]
  },
  {
   "cell_type": "code",
   "execution_count": 4,
   "metadata": {},
   "outputs": [
    {
     "data": {
      "text/plain": [
       "<matplotlib.axes._subplots.AxesSubplot at 0x1a29073d30>"
      ]
     },
     "execution_count": 4,
     "metadata": {},
     "output_type": "execute_result"
    },
    {
     "data": {
      "image/png": "[encoded data removed]",
      "text/plain": [
       "<Figure size 432x288 with 1 Axes>"
      ]
     },
     "metadata": {
      "needs_background": "light"
     },
     "output_type": "display_data"
    }
   ],
   "source": [
    "sns.countplot(data['is_sarcastic'])"
   ]
  },
  {
   "cell_type": "markdown",
   "metadata": {},
   "source": [
    "Cleaning is done using NLTK (library for NLP), re (library for regex)"
   ]
  },
  {
   "cell_type": "code",
   "execution_count": 5,
   "metadata": {},
   "outputs": [],
   "source": [
    "corpus = []\n",
    "stop_words = set(stopwords.words('english'))\n",
    "stemmer = SnowballStemmer(\"english\", ignore_stopwords=True)\n",
    "\n",
    "for i in range(0, len(data)):\n",
    "    describe = re.sub('!', 'exclamation', data['headline'][i])\n",
    "    describe = describe.replace('?', 'questionmark')\n",
    "    quotes = re.findall(r'\\'(.+?)\\'', describe)\n",
    "    if quotes:\n",
    "        describe += 'quotes'\n",
    "    describe = re.sub('^[a-z]', ' ', describe) #remove everything except lowercase letters\n",
    "    describe = describe.split()\n",
    "    describe = [stemmer.stem(word) for word in describe]\n",
    "    describe = ' '.join(describe)\n",
    "    corpus.append(describe)"
   ]
  },
  {
   "cell_type": "markdown",
   "metadata": {},
   "source": [
    "Feature creation:\n",
    "Bag of words model-\n",
    "\n",
    "By doing ‘count_vect.fit_transform(x_count.data)’, we are learning the vocabulary dictionary and it returns a Document-Term matrix of [n_samples, n_features]."
   ]
  },
  {
   "cell_type": "code",
   "execution_count": 6,
   "metadata": {},
   "outputs": [
    {
     "name": "stdout",
     "output_type": "stream",
     "text": [
      "(26709, 24833)\n"
     ]
    }
   ],
   "source": [
    "count_v = CountVectorizer()\n",
    "x_count = count_v.fit_transform(corpus).toarray()\n",
    "print(x_count.shape)"
   ]
  },
  {
   "cell_type": "markdown",
   "metadata": {},
   "source": [
    "Splitting into training and testing set:"
   ]
  },
  {
   "cell_type": "code",
   "execution_count": 7,
   "metadata": {},
   "outputs": [
    {
     "name": "stdout",
     "output_type": "stream",
     "text": [
      "(21367, 24833) (21367,)\n",
      "(5342, 24833) (5342,)\n"
     ]
    }
   ],
   "source": [
    "y = data.is_sarcastic\n",
    "\n",
    "x_train, x_test, y_train, y_test = train_test_split(x_count, y, test_size = 0.2)\n",
    "print(x_train.shape, y_train.shape)\n",
    "print(x_test.shape, y_test.shape)"
   ]
  },
  {
   "cell_type": "code",
   "execution_count": 8,
   "metadata": {},
   "outputs": [],
   "source": [
    "def output(alg, x_test, y_test, predicted):\n",
    "    conf_matrix = confusion_matrix(y_test,predicted)\n",
    "    classf_report = classification_report(y_test,predicted)\n",
    "    print('\\nConfusion matrix\\n',conf_matrix)\n",
    "    print('\\nClassification report\\n',classf_report)\n",
    "    \n",
    "    TP = conf_matrix[0][0]\n",
    "    FP = conf_matrix[0][1]\n",
    "    FN = conf_matrix[1][0]\n",
    "    TN = conf_matrix[1][1]\n",
    "    error = (FP+FN)/(TP+TN+FP+FN)\n",
    "    print('\\nError is %.2f\\n'%error)\n",
    "    \n",
    "def plot(alg, x_test, y_test, predicted):\n",
    "    prob = alg.predict_proba(x_test)[:,1]\n",
    "    fpr, tpr, threshold = roc_curve(y_test, prob)\n",
    "    plt.plot(fpr,tpr)"
   ]
  },
  {
   "cell_type": "code",
   "execution_count": 23,
   "metadata": {},
   "outputs": [],
   "source": [
    "def naivebayes(x_train, y_train, x_test, y_test):\n",
    "    alg = MultinomialNB().fit(x_train, y_train)\n",
    "    predicted = alg.predict(x_test)\n",
    "    accuracy = np.mean(predicted == y_test)\n",
    "    print(\"Accuracy for Naive Bayes\\n%.2f\"%accuracy)\n",
    "    global out\n",
    "    out = {'alg':alg, 'accuracy':accuracy, 'predicted':predicted}\n",
    "\n",
    "def logreg(x_train, y_train, x_test, y_test):\n",
    "    alg = LogisticRegression().fit(x_train,y_train)\n",
    "    predicted = alg.predict(x_test)\n",
    "    accuracy = np.mean(predicted == y_test)\n",
    "    print(\"Accuracy for logistic regression\\n%.2f\"%accuracy)\n",
    "    global out\n",
    "    out = {'alg':alg, 'accuracy':accuracy, 'predicted':predicted}\n",
    "    \n",
    "    \n",
    "def sgd(x_train, y_train, x_test, y_test):\n",
    "    alg = SGDClassifier(n_iter=5, random_state=42)\n",
    "    alg = alg.fit(x_train, y_train)\n",
    "    predicted = alg.predict(x_test)\n",
    "    accuracy = np.mean(predicted == y_test)\n",
    "    print(\"Accuracy for SGD classifier\\n%.2f\"%accuracy)\n",
    "    global out\n",
    "    out = {'alg':alg, 'accuracy':accuracy, 'predicted':predicted}\n",
    "    \n",
    "\n",
    "def ranfor(x_train, y_train, x_test, y_test):\n",
    "    alg = RandomForestClassifier().fit(x_train, y_train)\n",
    "    predicted = alg.predict(x_test)\n",
    "    accuracy = np.mean(predicted == y_test)\n",
    "    print(\"Accuracy for Random Forest\\n%.2f\"%accuracy)\n",
    "    global out\n",
    "    out = {'alg':alg, 'accuracy':accuracy, 'predicted':predicted}"
   ]
  },
  {
   "cell_type": "code",
   "execution_count": 24,
   "metadata": {
    "scrolled": true
   },
   "outputs": [
    {
     "name": "stdout",
     "output_type": "stream",
     "text": [
      "Accuracy for Random Forest\n",
      "0.84\n",
      "\n",
      "Confusion matrix\n",
      " [[2525  394]\n",
      " [ 443 1980]]\n",
      "\n",
      "Classification report\n",
      "              precision    recall  f1-score   support\n",
      "\n",
      "          0       0.85      0.87      0.86      2919\n",
      "          1       0.83      0.82      0.83      2423\n",
      "\n",
      "avg / total       0.84      0.84      0.84      5342\n",
      "\n",
      "\n",
      "Error is 0.16\n",
      "\n"
     ]
    },
    {
     "data": {
      "image/png": "[encoded data removed]",
      "text/plain": [
       "<Figure size 432x288 with 1 Axes>"
      ]
     },
     "metadata": {
      "needs_background": "light"
     },
     "output_type": "display_data"
    }
   ],
   "source": [
    "accuracy = {}\n",
    "\n",
    "naivebayes(x_train, y_train, x_test, y_test)\n",
    "accuracy.update({'NB': out['accuracy']})\n",
    "output(out['alg'], x_test, y_test, out['predicted'])\n",
    "plot(out['alg'], x_test, y_test, out['predicted'])"
   ]
  },
  {
   "cell_type": "code",
   "execution_count": 25,
   "metadata": {
    "scrolled": true
   },
   "outputs": [
    {
     "name": "stdout",
     "output_type": "stream",
     "text": [
      "Accuracy for logistic regression\n",
      "0.83\n",
      "\n",
      "Confusion matrix\n",
      " [[2518  401]\n",
      " [ 504 1919]]\n",
      "\n",
      "Classification report\n",
      "              precision    recall  f1-score   support\n",
      "\n",
      "          0       0.83      0.86      0.85      2919\n",
      "          1       0.83      0.79      0.81      2423\n",
      "\n",
      "avg / total       0.83      0.83      0.83      5342\n",
      "\n",
      "\n",
      "Error is 0.17\n",
      "\n"
     ]
    },
    {
     "data": {
      "image/png": "[encoded data removed]",
      "text/plain": [
       "<Figure size 432x288 with 1 Axes>"
      ]
     },
     "metadata": {
      "needs_background": "light"
     },
     "output_type": "display_data"
    }
   ],
   "source": [
    "logreg(x_train, y_train, x_test, y_test)\n",
    "accuracy.update({'LR': out['accuracy']})\n",
    "output(out['alg'], x_test, y_test, out['predicted'])\n",
    "plot(out['alg'], x_test, y_test, out['predicted'])"
   ]
  },
  {
   "cell_type": "code",
   "execution_count": 26,
   "metadata": {},
   "outputs": [
    {
     "name": "stderr",
     "output_type": "stream",
     "text": [
      "/anaconda3/lib/python3.7/site-packages/sklearn/linear_model/stochastic_gradient.py:117: DeprecationWarning: n_iter parameter is deprecated in 0.19 and will be removed in 0.21. Use max_iter and tol instead.\n",
      "  DeprecationWarning)\n"
     ]
    },
    {
     "name": "stdout",
     "output_type": "stream",
     "text": [
      "Accuracy for SGD classifier\n",
      "0.82\n",
      "\n",
      "Confusion matrix\n",
      " [[2539  380]\n",
      " [ 569 1854]]\n",
      "\n",
      "Classification report\n",
      "              precision    recall  f1-score   support\n",
      "\n",
      "          0       0.82      0.87      0.84      2919\n",
      "          1       0.83      0.77      0.80      2423\n",
      "\n",
      "avg / total       0.82      0.82      0.82      5342\n",
      "\n",
      "\n",
      "Error is 0.18\n",
      "\n"
     ]
    }
   ],
   "source": [
    "sgd(x_train, y_train, x_test, y_test)\n",
    "accuracy.update({'SGD': out['accuracy']})\n",
    "output(out['alg'], x_test, y_test, out['predicted'])"
   ]
  },
  {
   "cell_type": "code",
   "execution_count": 28,
   "metadata": {},
   "outputs": [
    {
     "name": "stdout",
     "output_type": "stream",
     "text": [
      "Accuracy for Random Forest\n",
      "0.78\n",
      "\n",
      "Confusion matrix\n",
      " [[2556  363]\n",
      " [ 814 1609]]\n",
      "\n",
      "Classification report\n",
      "              precision    recall  f1-score   support\n",
      "\n",
      "          0       0.76      0.88      0.81      2919\n",
      "          1       0.82      0.66      0.73      2423\n",
      "\n",
      "avg / total       0.78      0.78      0.78      5342\n",
      "\n",
      "\n",
      "Error is 0.22\n",
      "\n"
     ]
    },
    {
     "data": {
      "image/png": "[encoded data removed]",
      "text/plain": [
       "<Figure size 432x288 with 1 Axes>"
      ]
     },
     "metadata": {
      "needs_background": "light"
     },
     "output_type": "display_data"
    }
   ],
   "source": [
    "ranfor(x_train, y_train, x_test, y_test)\n",
    "accuracy.update({'RF': out['accuracy']})\n",
    "output(out['alg'], x_test, y_test, out['predicted'])\n",
    "plot(out['alg'], x_test, y_test, out['predicted'])"
   ]
  },
  {
   "cell_type": "markdown",
   "metadata": {},
   "source": [
    "We try to improve the model. Count the headline length into consideration and remove outliers from that.\n",
    "\n",
    "2. Removing noise using Tfidvectorizer\n",
    "Make a TF-IDF:\n",
    "{Convert a collection of raw documents to a matrix of TF-IDF features.\n",
    "\n",
    "Equivalent to CountVectorizer followed by TfidfTransformer.}\n",
    "\n",
    "Meximum features = 3000, 5000, 10000\n",
    "\n",
    "n-gram range: (1, 3)"
   ]
  },
  {
   "cell_type": "code",
   "execution_count": 29,
   "metadata": {},
   "outputs": [
    {
     "data": {
      "text/html": [
       "<div>\n",
       "<style scoped>\n",
       "    .dataframe tbody tr th:only-of-type {\n",
       "        vertical-align: middle;\n",
       "    }\n",
       "\n",
       "    .dataframe tbody tr th {\n",
       "        vertical-align: top;\n",
       "    }\n",
       "\n",
       "    .dataframe thead th {\n",
       "        text-align: right;\n",
       "    }\n",
       "</style>\n",
       "<table border=\"1\" class=\"dataframe\">\n",
       "  <thead>\n",
       "    <tr style=\"text-align: right;\">\n",
       "      <th></th>\n",
       "      <th>headline</th>\n",
       "      <th>is_sarcastic</th>\n",
       "      <th>length</th>\n",
       "    </tr>\n",
       "  </thead>\n",
       "  <tbody>\n",
       "    <tr>\n",
       "      <th>0</th>\n",
       "      <td>former versace store clerk sues over secret 'b...</td>\n",
       "      <td>0</td>\n",
       "      <td>12</td>\n",
       "    </tr>\n",
       "    <tr>\n",
       "      <th>1</th>\n",
       "      <td>the 'roseanne' revival catches up to our thorn...</td>\n",
       "      <td>0</td>\n",
       "      <td>14</td>\n",
       "    </tr>\n",
       "    <tr>\n",
       "      <th>2</th>\n",
       "      <td>mom starting to fear son's web series closest ...</td>\n",
       "      <td>1</td>\n",
       "      <td>14</td>\n",
       "    </tr>\n",
       "    <tr>\n",
       "      <th>3</th>\n",
       "      <td>boehner just wants wife to listen, not come up...</td>\n",
       "      <td>1</td>\n",
       "      <td>13</td>\n",
       "    </tr>\n",
       "    <tr>\n",
       "      <th>4</th>\n",
       "      <td>j.k. rowling wishes snape happy birthday in th...</td>\n",
       "      <td>0</td>\n",
       "      <td>11</td>\n",
       "    </tr>\n",
       "  </tbody>\n",
       "</table>\n",
       "</div>"
      ],
      "text/plain": [
       "                                            headline  is_sarcastic  length\n",
       "0  former versace store clerk sues over secret 'b...             0      12\n",
       "1  the 'roseanne' revival catches up to our thorn...             0      14\n",
       "2  mom starting to fear son's web series closest ...             1      14\n",
       "3  boehner just wants wife to listen, not come up...             1      13\n",
       "4  j.k. rowling wishes snape happy birthday in th...             0      11"
      ]
     },
     "execution_count": 29,
     "metadata": {},
     "output_type": "execute_result"
    }
   ],
   "source": [
    "data['length'] = data['headline'].apply(lambda x: len(x.split(\" \")))\n",
    "data.head()"
   ]
  },
  {
   "cell_type": "code",
   "execution_count": 30,
   "metadata": {},
   "outputs": [
    {
     "data": {
      "image/png": "[encoded data removed]",
      "text/plain": [
       "<Figure size 432x288 with 1 Axes>"
      ]
     },
     "metadata": {
      "needs_background": "light"
     },
     "output_type": "display_data"
    }
   ],
   "source": [
    "data_length = data['length'].value_counts().reset_index()\n",
    "data_length.rename(columns={'index':'length', 'length':'frequency'}, inplace=True)\n",
    "data_length.head()\n",
    "\n",
    "fig = plt.figure()\n",
    "plt.bar(data_length['length'], data_length['frequency'])\n",
    "plt.xlabel('Length of Sentence')\n",
    "plt.ylabel('Frequency')\n",
    "fig.savefig('lengthfrqplot.jpg')"
   ]
  },
  {
   "cell_type": "code",
   "execution_count": 31,
   "metadata": {},
   "outputs": [
    {
     "name": "stdout",
     "output_type": "stream",
     "text": [
      "(26606, 3)\n"
     ]
    },
    {
     "data": {
      "text/plain": [
       "<matplotlib.axes._subplots.AxesSubplot at 0x1a2978ee10>"
      ]
     },
     "execution_count": 31,
     "metadata": {},
     "output_type": "execute_result"
    },
    {
     "data": {
      "image/png": "[encoded data removed]",
      "text/plain": [
       "<Figure size 432x288 with 1 Axes>"
      ]
     },
     "metadata": {
      "needs_background": "light"
     },
     "output_type": "display_data"
    }
   ],
   "source": [
    "data = data[data['length'] < 20]\n",
    "print(data.shape)\n",
    "sns.countplot(data['is_sarcastic'])"
   ]
  },
  {
   "cell_type": "code",
   "execution_count": 36,
   "metadata": {
    "scrolled": true
   },
   "outputs": [
    {
     "name": "stdout",
     "output_type": "stream",
     "text": [
      "(21284, 3000) (21284,)\n",
      "(5322, 3000) (5322,)\n",
      "Accuracy for logistic regression\n",
      "0.84\n",
      "Accuracy for SGD classifier\n",
      "0.84\n"
     ]
    },
    {
     "name": "stderr",
     "output_type": "stream",
     "text": [
      "/anaconda3/lib/python3.7/site-packages/sklearn/linear_model/stochastic_gradient.py:117: DeprecationWarning: n_iter parameter is deprecated in 0.19 and will be removed in 0.21. Use max_iter and tol instead.\n",
      "  DeprecationWarning)\n"
     ]
    },
    {
     "name": "stdout",
     "output_type": "stream",
     "text": [
      "Accuracy for Random Forest\n",
      "0.79\n",
      "(21284, 5000) (21284,)\n",
      "(5322, 5000) (5322,)\n",
      "Accuracy for logistic regression\n",
      "0.84\n",
      "Accuracy for SGD classifier\n",
      "0.84\n"
     ]
    },
    {
     "name": "stderr",
     "output_type": "stream",
     "text": [
      "/anaconda3/lib/python3.7/site-packages/sklearn/linear_model/stochastic_gradient.py:117: DeprecationWarning: n_iter parameter is deprecated in 0.19 and will be removed in 0.21. Use max_iter and tol instead.\n",
      "  DeprecationWarning)\n"
     ]
    },
    {
     "name": "stdout",
     "output_type": "stream",
     "text": [
      "Accuracy for Random Forest\n",
      "0.80\n",
      "(21284, 10000) (21284,)\n",
      "(5322, 10000) (5322,)\n",
      "Accuracy for logistic regression\n",
      "0.85\n",
      "Accuracy for SGD classifier\n",
      "0.85\n"
     ]
    },
    {
     "name": "stderr",
     "output_type": "stream",
     "text": [
      "/anaconda3/lib/python3.7/site-packages/sklearn/linear_model/stochastic_gradient.py:117: DeprecationWarning: n_iter parameter is deprecated in 0.19 and will be removed in 0.21. Use max_iter and tol instead.\n",
      "  DeprecationWarning)\n"
     ]
    },
    {
     "name": "stdout",
     "output_type": "stream",
     "text": [
      "Accuracy for Random Forest\n",
      "0.79\n",
      "{'NB': 0.8433171096967428, 'LR': 0.8305877948333957, 'SGD': 0.8223511793335829, 'RF': 0.7796705353800075, 'LR0': 0.8365276211950394, 'SGD0': 0.8387824126268321, 'RF0': 0.7908680947012401, 'LR1': 0.8385945133408493, 'SGD1': 0.8357760240511086, 'RF1': 0.8043968432919955, 'LR2': 0.8461104847801578, 'SGD2': 0.8464862833521233, 'RF2': 0.7931228861330327}\n"
     ]
    }
   ],
   "source": [
    "m_feat = [3000, 5000, 10000]\n",
    "\n",
    "for i in range(0,3):\n",
    "    tf = TfidfVectorizer(analyzer = \"word\", ngram_range = (1,3), max_features = m_feat[i], norm =\"l2\")\n",
    "    x_tf = tf.fit_transform(data['headline'])\n",
    "    y = data.is_sarcastic\n",
    "    x_train, x_test, y_train, y_test = train_test_split(x_tf, y, test_size = 0.2)\n",
    "    print(x_train.shape, y_train.shape)\n",
    "    print(x_test.shape, y_test.shape)\n",
    "    logreg(x_train, y_train, x_test, y_test)\n",
    "    accuracy.update({'LR' + str(i) : out['accuracy']})\n",
    "    sgd(x_train, y_train, x_test, y_test)\n",
    "    accuracy.update({'SGD' + str(i) : out['accuracy']})\n",
    "    ranfor(x_train, y_train, x_test, y_test)\n",
    "    accuracy.update({'RF' + str(i): out['accuracy']})\n",
    "    i+=1\n",
    "    \n",
    "print(accuracy)"
   ]
  },
  {
   "cell_type": "code",
   "execution_count": 38,
   "metadata": {},
   "outputs": [
    {
     "name": "stdout",
     "output_type": "stream",
     "text": [
      "(21284, 373526) (21284,)\n",
      "(5322, 373526) (5322,)\n",
      "Accuracy for Random Forest\n",
      "0.79\n"
     ]
    }
   ],
   "source": [
    "tf = TfidfVectorizer(analyzer = \"word\", ngram_range = (1,3), norm =\"l2\")\n",
    "x_tf = tf.fit_transform(data['headline'])\n",
    "y = data.is_sarcastic\n",
    "x_train, x_test, y_train, y_test = train_test_split(x_tf, y, test_size = 0.2)\n",
    "print(x_train.shape, y_train.shape)\n",
    "print(x_test.shape, y_test.shape)\n",
    "naivebayes(x_train, y_train, x_test, y_test)\n",
    "accuracy.update({'NB1': out['accuracy']})"
   ]
  },
  {
   "cell_type": "code",
   "execution_count": 39,
   "metadata": {},
   "outputs": [
    {
     "name": "stdout",
     "output_type": "stream",
     "text": [
      "   index  Accuracy\n",
      "0     NB  0.843317\n",
      "1     LR  0.830588\n",
      "2    SGD  0.822351\n",
      "3     RF  0.779671\n",
      "4    LR0  0.836528\n",
      "5   SGD0  0.838782\n",
      "6    RF0  0.790868\n",
      "7    LR1  0.838595\n",
      "8   SGD1  0.835776\n",
      "9    RF1  0.804397\n",
      "10   LR2  0.846110\n",
      "11  SGD2  0.846486\n",
      "12   RF2  0.793123\n",
      "13   NB1  0.793687\n"
     ]
    }
   ],
   "source": [
    "accuracy_df = pd.DataFrame.from_dict(accuracy, orient = 'index', columns= ['Accuracy'])\n",
    "accuracy_df.reset_index(level=0, inplace=True)\n",
    "print(accuracy_df)"
   ]
  },
  {
   "cell_type": "code",
   "execution_count": 40,
   "metadata": {},
   "outputs": [
    {
     "data": {
      "image/png": "[encoded data removed]",
      "text/plain": [
       "<Figure size 432x288 with 1 Axes>"
      ]
     },
     "metadata": {
      "needs_background": "light"
     },
     "output_type": "display_data"
    }
   ],
   "source": [
    "fig = plt.figure()\n",
    "sns.set()\n",
    "sns.boxplot(x='index', y='Accuracy', data=accuracy_df)\n",
    "sns.stripplot(x='index', y='Accuracy', data=accuracy_df,\n",
    "              size=12, jitter=True, edgecolor=\"gray\", linewidth=2)\n",
    "plt.xlabel(\"Model\")\n",
    "sns.despine()\n",
    "plt.show()\n",
    "fig.savefig(\"Model Accuracy.jpg\")"
   ]
  }
 ],
 "metadata": {
  "kernelspec": {
   "display_name": "Python 3",
   "language": "python",
   "name": "python3"
  },
  "language_info": {
   "codemirror_mode": {
    "name": "ipython",
    "version": 3
   },
   "file_extension": ".py",
   "mimetype": "text/x-python",
   "name": "python",
   "nbconvert_exporter": "python",
   "pygments_lexer": "ipython3",
   "version": "3.7.0"
  }
 },
 "nbformat": 4,
 "nbformat_minor": 2
}
