{
 "cells": [
  {
   "cell_type": "code",
   "execution_count": null,
   "metadata": {},
   "outputs": [],
   "source": [
    "from nltk.tokenize import word_tokenize\n",
    "import nltk\n",
    "nltk.download('punkt')\n",
    "\n",
    "all_words = []\n",
    "for txt in corpus:\n",
    "    words = word_tokenize(txt)\n",
    "    for w in words:\n",
    "        if w not in stop_words:\n",
    "            all_words.append(w)\n",
    "\n",
    "all_words = nltk.FreqDist(all_words)"
   ]
  },
  {
   "cell_type": "code",
   "execution_count": null,
   "metadata": {},
   "outputs": [],
   "source": [
    "processed = data['headline'].str.replace(r'^.+@[^\\.].*\\.[a-z]{2,}$',' ')\n",
    "processed = processed.str.replace(r'[^\\w\\d\\s]', ' ')\n",
    "processed = processed.str.replace(r'\\s+', ' ')\n",
    "processed = processed.str.replace(r'^\\s+|\\s+?$', ' ')\n",
    "processed = processed.str.replace(r'\\d+',' ')\n",
    "processed = processed.str.lower()\n",
    "\n",
    "stop_words = set(stopwords.words('english'))\n",
    "processed = processed.apply(lambda x: ' '.join(\n",
    "    term for term in x.split() if term not in stop_words))\n",
    "\n",
    "all_words = []\n",
    "for txt in processed:\n",
    "    words = word_tokenize(txt)\n",
    "    for w in words:\n",
    "        all_words.append(w)\n",
    "\n",
    "all_words = nltk.FreqDist(all_words)"
   ]
  },
  {
   "cell_type": "code",
   "execution_count": null,
   "metadata": {},
   "outputs": [],
   "source": [
    "word_features = list(all_words.keys())[:5000]\n",
    "\n",
    "def find_features(headings):\n",
    "    words = word_tokenize(headings)\n",
    "    features = {}\n",
    "    for word in word_features:\n",
    "        features[word] = (word in words)\n",
    "\n",
    "    return features\n",
    "\n",
    "headings = list(zip(processed, data['is_sarcastic']))\n",
    "\n",
    "from nltk.classify.scikitlearn import SklearnClassifier\n",
    "from sklearn import model_selection\n",
    "\n",
    "featuresets = [(find_features(text), label) for (text, label) in headings]"
   ]
  },
  {
   "cell_type": "code",
   "execution_count": null,
   "metadata": {},
   "outputs": [],
   "source": [
    "training, testing = model_selection.train_test_split(featuresets, test_size = 0.25, random_state=1)\n",
    "model = MultinomialNB()\n",
    "nl_model = SklearnClassifier(model)\n",
    "nl_model.train(training)\n",
    "accuracy = nltk.classify.accuracy(nl_model, testing)*100\n",
    "print(\"Naive Bayes Accuracy: {}\".format(accuracy))\n",
    "\n",
    "txt_features, labels = list(zip(*testing))\n",
    "prediction = nl_model.classify_many(txt_features)\n",
    "\n"
   ]
  },
  {
   "cell_type": "code",
   "execution_count": null,
   "metadata": {},
   "outputs": [],
   "source": [
    "sarc = [];\n",
    "no_sarc = [];\n",
    "unifyy = list(zip(prediction, txt_features, labels))\n",
    "for prd, txt, lbl in unifyy:\n",
    "    for key, value in txt.items():\n",
    "        if value == True and lbl == prd == 0:\n",
    "            no_sarc.append(key)\n",
    "            break\n",
    "        elif value == True and lbl == prd == 1:\n",
    "            sarc.append(key)\n",
    "            break"
   ]
  },
  {
   "cell_type": "code",
   "execution_count": null,
   "metadata": {},
   "outputs": [],
   "source": [
    "import matplotlib.pyplot as plt\n",
    "from wordcloud import WordCloud\n",
    "import pylab as pl\n",
    "\n",
    "sarc_words = plt.figure()\n",
    "pl.figure(figsize = (10,10))\n",
    "sarcastic = str(sarc)\n",
    "wordCloud = WordCloud(background_color = \"black\").generate(sarcastic)\n",
    "plt.imshow(wordCloud, interpolation = 'bilinear')\n",
    "plt.axis('off')\n",
    "plt.title('Sarcasm Words', fontsize = 13)\n",
    "plt.show()\n",
    "sarc_words.savefig(\"Sarcasm Words.jpg\")"
   ]
  },
  {
   "cell_type": "code",
   "execution_count": null,
   "metadata": {},
   "outputs": [],
   "source": [
    "non_sarc = plt.figure()\n",
    "pl.figure(figsize = (10,10))\n",
    "not_sarcastic = str(no_sarc)\n",
    "wordCloud = WordCloud(background_color = \"black\").generate(not_sarcastic)\n",
    "plt.imshow(wordCloud, interpolation = 'bilinear')\n",
    "plt.axis('off')\n",
    "plt.title('Not Sarcasm Words', fontsize = 13)\n",
    "plt.show()\n",
    "non_sarc.savefig(\"Non sarcasm words.jpg\")"
   ]
  }
 ],
 "metadata": {
  "kernelspec": {
   "display_name": "Python 3",
   "language": "python",
   "name": "python3"
  },
  "language_info": {
   "codemirror_mode": {
    "name": "ipython",
    "version": 3
   },
   "file_extension": ".py",
   "mimetype": "text/x-python",
   "name": "python",
   "nbconvert_exporter": "python",
   "pygments_lexer": "ipython3",
   "version": "3.7.0"
  }
 },
 "nbformat": 4,
 "nbformat_minor": 2
}
